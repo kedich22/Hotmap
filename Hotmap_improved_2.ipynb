{
 "cells": [
  {
   "cell_type": "code",
   "execution_count": 1,
   "id": "717ce5db-2c0d-4834-a4c4-ce10af55e46e",
   "metadata": {
    "jupyter": {
     "source_hidden": true
    },
    "tags": []
   },
   "outputs": [],
   "source": [
    "# Initializing for the use of Earth Engine services\n",
    "# In case of the first time use you should authenticate by pasting token in the box and then pressing enter\n",
    "import ee\n",
    "try:\n",
    "    ee.Initialize()\n",
    "except:\n",
    "    ee.Authenticate()\n",
    "    ee.Initialize()"
   ]
  },
  {
   "cell_type": "markdown",
   "id": "33693b2e-6513-4f42-9992-12b66fd9bc51",
   "metadata": {
    "tags": []
   },
   "source": [
    "# The adapted v-HOTMAP algorithm (beta verison)\n",
    "## The algorithm is implemented using Sentinel-2 images\n",
    "\n",
    "The developed application allows to detect hotspots for a series of volcanoes from the list: Kilauea, Nyiragongo, Nyamuragira, Erta Ale, Villarrica, Yasur, Stromboli, Etna. Further the list of objects will be enlarged. The algorithm is an improved version of v-Hotmap algorithm."
   ]
  },
  {
   "cell_type": "code",
   "execution_count": 2,
   "id": "db70d2b9-6855-45e3-b9ae-94a0a9f5c7a4",
   "metadata": {
    "tags": []
   },
   "outputs": [],
   "source": [
    "import geemap\n",
    "import io\n",
    "import pandas as pd\n",
    "from datetime import date\n",
    "from ipyfilechooser import FileChooser\n",
    "from ipyleaflet import (WidgetControl, Map, LayerGroup)\n",
    "import colorama\n",
    "from colorama import Fore\n",
    "import ipywidgets as widgets\n",
    "import os\n",
    "import requests\n",
    "import numpy as np"
   ]
  },
  {
   "cell_type": "code",
   "execution_count": 3,
   "id": "a1d63b29",
   "metadata": {
    "tags": []
   },
   "outputs": [],
   "source": [
    "#df with predefined volcanoes and their coordinates\n",
    "# Add here new volcanoes with their coordinates if you want\n",
    "# Volcano database: https://volcano.si.edu/\n",
    "volcano_list = ['Kilauea', 'Nyiragongo', 'Nyamuragira', 'Erta Ale', 'Villarrica', 'Yasur', 'Stromboli', 'Etna']\n",
    "data_volc = {'volcano': volcano_list,\n",
    "        'x_coords': [-155.287, 29.25, 29.2, 40.67, -71.93, 169.447, 15.213, 14.999], \n",
    "        'y_coords': [19.421, -1.52, -1.408, 13.6, -39.42, -19.532, 38.789, 37.748] }\n",
    "volcanoes = pd.DataFrame(data_volc)"
   ]
  },
  {
   "cell_type": "code",
   "execution_count": 4,
   "id": "d711a911-cf8d-4e18-b58a-ef483d3318ba",
   "metadata": {
    "tags": []
   },
   "outputs": [
    {
     "data": {
      "application/vnd.jupyter.widget-view+json": {
       "model_id": "7106c85805e248e59e3cd2b601cc5262",
       "version_major": 2,
       "version_minor": 0
      },
      "text/plain": [
       "Map(center=[20, 0], controls=(WidgetControl(options=['position', 'transparent_bg'], widget=HBox(children=(Togg…"
      ]
     },
     "execution_count": 4,
     "metadata": {},
     "output_type": "execute_result"
    }
   ],
   "source": [
    "#map visualization\n",
    "# turn on the map and add layer control to list all present layers on a map\n",
    "m = geemap.Map()\n",
    "m.add_basemap('TERRAIN')\n",
    "m.addLayerControl()\n",
    "m"
   ]
  },
  {
   "cell_type": "markdown",
   "id": "f834e043-4a88-4dc2-9d40-4250ec050a0b",
   "metadata": {
    "tags": []
   },
   "source": [
    "***\n",
    "* __Select the volcano and buffer distance:__"
   ]
  },
  {
   "cell_type": "code",
   "execution_count": 5,
   "id": "ff5c7738-615a-4875-b2bf-cb4a058a8765",
   "metadata": {
    "tags": []
   },
   "outputs": [
    {
     "data": {
      "application/vnd.jupyter.widget-view+json": {
       "model_id": "c84389d46f944fa1926d5e56745a21c3",
       "version_major": 2,
       "version_minor": 0
      },
      "text/plain": [
       "HBox(children=(Dropdown(description='Select Volcano:', options=('Kilauea', 'Nyiragongo', 'Nyamuragira', 'Erta …"
      ]
     },
     "metadata": {},
     "output_type": "display_data"
    }
   ],
   "source": [
    "#widgets for volcano dropdown list and buffer distance selection\n",
    "style = {'description_width': 'initial'}\n",
    "\n",
    "# Output widget to indicate the period of processing, added on the map in right bottom part\n",
    "output_widget = widgets.Output()\n",
    "output_control = WidgetControl(widget=output_widget, position='bottomright')\n",
    "m.add_control(output_control)\n",
    "\n",
    "# Widget with volcanoes, add to the list in chunk 3 new volcanoes\n",
    "volcano_widget = widgets.Dropdown(description='Select Volcano:',\n",
    "                                  options=volcano_list, style=style)\n",
    "# Widget to indicate bufet and final layout and displaying\n",
    "buffer_widget = widgets.Text(description='Buffer distance:', max_height=20,  style=style)\n",
    "volc_widgets = widgets.HBox([volcano_widget, buffer_widget])\n",
    "display(volc_widgets)"
   ]
  },
  {
   "cell_type": "markdown",
   "id": "e1690940-0d51-441e-b481-c9882a313bfb",
   "metadata": {
    "tags": []
   },
   "source": [
    "* __Select the date interval:__"
   ]
  },
  {
   "cell_type": "code",
   "execution_count": 6,
   "id": "25e70231-9e27-4d3d-a4d9-28f42ee89c20",
   "metadata": {
    "tags": []
   },
   "outputs": [
    {
     "data": {
      "application/vnd.jupyter.widget-view+json": {
       "model_id": "9e4d06b2889a45efa83f6d3e8058960a",
       "version_major": 2,
       "version_minor": 0
      },
      "text/plain": [
       "HBox(children=(DatePicker(value=None, description='Start date: ', step=1), DatePicker(value=None, description=…"
      ]
     },
     "metadata": {},
     "output_type": "display_data"
    }
   ],
   "source": [
    "#Widgets to select the date period of interest\n",
    "start_day = widgets.DatePicker(description='Start date: ', disabled=False)\n",
    "end_day = widgets.DatePicker(description='End date: ', disabled=False)\n",
    "widget_dates = widgets.HBox([start_day, end_day])\n",
    "#Displaying widgets\n",
    "display(widget_dates)"
   ]
  },
  {
   "cell_type": "markdown",
   "id": "f0c94238-316d-4694-83db-c1118a7eb8a1",
   "metadata": {
    "tags": []
   },
   "source": [
    "* __Select the visualization parameters:__"
   ]
  },
  {
   "cell_type": "code",
   "execution_count": 19,
   "id": "897c4ebd-774d-4b87-b9cd-70ff7e70ed61",
   "metadata": {
    "tags": []
   },
   "outputs": [
    {
     "data": {
      "application/vnd.jupyter.widget-view+json": {
       "model_id": "3574c9e2d37349c5b9421f239509ef26",
       "version_major": 2,
       "version_minor": 0
      },
      "text/plain": [
       "HBox(children=(ColorPicker(value='red', description='Hotspot color:', style=DescriptionStyle(description_width…"
      ]
     },
     "metadata": {},
     "output_type": "display_data"
    }
   ],
   "source": [
    "#widgets for setting visualization parameters\n",
    "widget_color = widgets.ColorPicker(concise=False, description='Hotspot color:', value= 'red', style=style) # Selection of color to visualize hotposts\n",
    "visbands_widget = widgets.Dropdown(description='Select band combination:',\n",
    "                                  options=['Natural Colors', 'NIR SWIR Colors', 'False Color', 'PAN'], style=style) # Selection of visualization\n",
    "sentinel_stretch = widgets.BoundedIntText(description='Stretching max value:', max_height=20, value = 3000, min = 0, max = 10000, step = 100,  style=style) # Max stretching value for the image visualization\n",
    "\n",
    "# Widgets layout and displaying\n",
    "widget_wis = widgets.HBox([widget_color, visbands_widget, sentinel_stretch]) \n",
    "display(widget_wis)"
   ]
  },
  {
   "cell_type": "markdown",
   "id": "b7c2d80d-2205-455d-80d4-139f02fb1329",
   "metadata": {
    "tags": []
   },
   "source": [
    "***\n",
    "* __Click submit to visualize the hotspots (or clear to close the layers and make a new selection):__"
   ]
  },
  {
   "cell_type": "code",
   "execution_count": 8,
   "id": "7b72d19f-c86a-45b7-b539-9fc9cc0192c1",
   "metadata": {
    "tags": []
   },
   "outputs": [
    {
     "data": {
      "application/vnd.jupyter.widget-view+json": {
       "model_id": "cb27276eadb646a8b0ac253a6606d6da",
       "version_major": 2,
       "version_minor": 0
      },
      "text/plain": [
       "VBox(children=(HBox(children=(Button(button_style='primary', description='Submit', style=ButtonStyle(), toolti…"
      ]
     },
     "metadata": {},
     "output_type": "display_data"
    }
   ],
   "source": [
    "# Widgets for submission and removing all layers\n",
    "# Buttons to submit and clear the map by removing layers\n",
    "submit = widgets.Button(description='Submit', button_style='primary', tooltip='Click to submit', style=style)\n",
    "clear = widgets.Button(description='Clear', button_style='warning', tooltip='Click to clear', style=style)\n",
    "# Output widget to confirm succesfull sumbission or print errors\n",
    "output_widget_submit = widgets.Output()\n",
    "# Layout and displaying\n",
    "widget_buttons = widgets.HBox([submit, clear])\n",
    "full_widget = widgets.VBox([widget_buttons, output_widget_submit])\n",
    "display(full_widget)"
   ]
  },
  {
   "cell_type": "markdown",
   "id": "35461884-2a9a-40eb-b5e5-9e9fdac23f83",
   "metadata": {
    "tags": []
   },
   "source": [
    "***\n",
    "* __Select the folder to download hotspots layers or a final table:__"
   ]
  },
  {
   "cell_type": "code",
   "execution_count": 9,
   "id": "bb71a5ac-a93e-4b9f-a6f0-240e79139c2b",
   "metadata": {
    "tags": []
   },
   "outputs": [
    {
     "data": {
      "application/vnd.jupyter.widget-view+json": {
       "model_id": "5529c9ee9e2a4b07b6f05be6f7a0e2b7",
       "version_major": 2,
       "version_minor": 0
      },
      "text/plain": [
       "VBox(children=(FileChooser(path='C:\\Users\\kedic\\Documents\\notebooks', filename='', title='', show_hidden=False…"
      ]
     },
     "metadata": {},
     "output_type": "display_data"
    }
   ],
   "source": [
    "#Widgets to export data\n",
    "# Buttons to export tif mask files and to export in a table format\n",
    "export = widgets.Button(description='Export data', button_style='info', tooltip='Click to export tif', style=style)\n",
    "export_table = widgets.Button(description='Export table', button_style='info', tooltip='Click to export table', style=style)\n",
    "# Output widget to confirm the export and display thar export is in progress, or to show errors\n",
    "output_widget_export = widgets.Output()\n",
    "# Widget to choose location for a file to save\n",
    "fc = FileChooser('')\n",
    "fc.show_only_dirs = True\n",
    "# Layout and diaplaying\n",
    "export_widget = widgets.VBox([fc, widgets.HBox([export, export_table]), output_widget_export])\n",
    "display(export_widget)"
   ]
  },
  {
   "cell_type": "code",
   "execution_count": 10,
   "id": "6894f6e5-940d-463c-8f73-d58e0a8942de",
   "metadata": {
    "tags": []
   },
   "outputs": [],
   "source": [
    "# Event handler when the button submit is clicked\n",
    "def on_submit_clicked(b):\n",
    "    # while processing display \"processing\" in the output widget\n",
    "    with output_widget:\n",
    "        output_widget.clear_output()\n",
    "        print('Computing...')\n",
    "        \n",
    "        try:\n",
    "            # define band visualizition depending on the selected user choice\n",
    "            bands = ['B12', 'B8A', 'B5']\n",
    "            if visbands_widget.value == 'Natural Colors':\n",
    "                bands = ['B4','B3','B2']\n",
    "            elif visbands_widget.value == 'NIR SWIR Colors':\n",
    "                bands = ['B12', 'B8A', 'B5']\n",
    "            elif visbands_widget.value == 'False Color':\n",
    "                bands = ['B8', 'B4', 'B3']\n",
    "            elif visbands_widget.value == 'PAN':\n",
    "                bands = ['B8', 'B8', 'B8']\n",
    "            \n",
    "            # global parameters to be accesed outside the function\n",
    "            global visParams\n",
    "            visParams = {'bands': ['B1'], 'palette': [widget_color.value]} # visualization of hotspots, take the value from widget\n",
    "            global visParams_sentinel2\n",
    "            visParams_sentinel2 = {\"min\": 0, \"max\": int(sentinel_stretch.value), \"bands\": bands} # parameters to visualize the image, value from the widget\n",
    "            global start\n",
    "            start = ee.Date(start_day.value.strftime('%Y-%m-%d')) # date of the start, access widget and transform\n",
    "            global finish\n",
    "            finish = ee.Date(end_day.value.strftime('%Y-%m-%d')) # date of the start, access widget and transform\n",
    "            global volcano\n",
    "            volcano = volcano_widget.value # volcano of interest, access the widget\n",
    "            global buffer_dist\n",
    "            buffer_dist = buffer_widget.value # buffer distance, access the widget\n",
    "\n",
    "            volcano_df = volcanoes[volcanoes['volcano'].str.contains(volcano)] # retrieve the row with volcano name\n",
    "            # Access the coordinates of the volcano\n",
    "            x_coords = volcano_df.iat[0, 1] \n",
    "            y_coords = volcano_df.iat[0, 2]\n",
    "            \n",
    "            # make a volcano point and buffer, bounding box for buffer to obtain squre around the point\n",
    "            global point_volcano\n",
    "            point_volcano = ee.Geometry.Point([x_coords, y_coords])\n",
    "            buffer = point_volcano.buffer(int(buffer_dist))\n",
    "            bbox = buffer.bounds()\n",
    "            global roi\n",
    "            roi = bbox\n",
    "            m.addLayer(bbox, {'color': 'blue'}, 'Area of interest') # Add layer of AOI\n",
    "            \n",
    "            # Zoom and center on the AOI\n",
    "            zoom = 14\n",
    "            m.setCenter(x_coords, y_coords, zoom)\n",
    "            \n",
    "            # Retrieve the collection and fid its size\n",
    "            s2_coll = collection_retr(start, finish, roi)\n",
    "            imagelist= s2_coll.toList(s2_coll.size()) #find the size of the collection\n",
    "            list_length_raw = ee.String(imagelist.length())\n",
    "            list_length_str = list_length_raw.getInfo()\n",
    "            image_number_auto = list_length_str-1\n",
    "            \n",
    "            #Get sentinel series of images for the period of interest (global to be accesed from hotmap fucntion)\n",
    "            global hotmap_ser\n",
    "            sentinel_ser = sentinel_series(imagelist, image_number_auto)\n",
    "            # Get hotmap masks for all images in the sentinel series\n",
    "            hotmap_ser = hotmap_series(sentinel_ser)\n",
    "        \n",
    "            output_widget.clear_output()\n",
    "            \n",
    "        #catch errors when the date range is not defined correctly\n",
    "        except Exception as e:\n",
    "            with output_widget_submit:\n",
    "                output_widget_submit.clear_output()\n",
    "                print(Fore.RED + 'Error occured! Check the dates range: no images found for the inidcated period')\n",
    "            \n",
    "submit.on_click(on_submit_clicked)"
   ]
  },
  {
   "cell_type": "code",
   "execution_count": 20,
   "id": "c401577d-1598-44e4-a538-ad180a824a33",
   "metadata": {
    "tags": []
   },
   "outputs": [],
   "source": [
    "#Event handler to remove all layers\n",
    "def on_clear_clicked(button):\n",
    "    with output_widget:\n",
    "        output_widget.clear_output()\n",
    "        print('Clearing...')\n",
    "        try:\n",
    "            # Set all layers to default values\n",
    "            start_day.value = None\n",
    "            end_day.value = None\n",
    "            widget_color.value = 'red'\n",
    "            sentinel_stretch.value = '3000'\n",
    "            volcano_widget.value = 'Kilauea'\n",
    "            buffer_widget.value = ''\n",
    "            \n",
    "            #clear map and rest a terrain basemap\n",
    "            m.clear_layers()\n",
    "            m.add_basemap('TERRAIN')\n",
    "            \n",
    "            #clear output widgets\n",
    "            output_widget_submit.clear_output()\n",
    "            output_widget.clear_output()\n",
    "            output_widget_export.clear_output()\n",
    "        except Exception as e:\n",
    "            with output_widget_submit:\n",
    "                print(Fore.RED + 'Error occured! Cannot remove the layers')\n",
    "                print(Fore.RED + e)\n",
    "\n",
    "clear.on_click(on_clear_clicked)"
   ]
  },
  {
   "cell_type": "code",
   "execution_count": 12,
   "id": "a00cffb0-fd59-48f8-be69-d231ee33e1a4",
   "metadata": {
    "tags": []
   },
   "outputs": [],
   "source": [
    "#Event handler to export the data in tif format (hotmap layers)\n",
    "def export_hotmap_clicked(b):\n",
    "    # print in an output widget (as it may take a while)\n",
    "    with output_widget_export:\n",
    "        output_widget_export.clear_output()\n",
    "        print('Exporting...')\n",
    "        try:\n",
    "            # access the stored series of images that was visualized previosly\n",
    "            # save every image from a list in a loop\n",
    "            for image in hotmap_ser:\n",
    "                image_date = ee.Date(image.get('system:time_start')).format('YYYY-MM-dd')\n",
    "                export_name = 'S2-v-HOTMAP_' + volcano + '_' + image_date.getInfo() + '.tif'\n",
    "                \n",
    "                image_to_export = image.toInt() # to integer 1 and 0 mask\n",
    "                #download url for images (works with small under 24 mb images), to avoid saving on google drive\n",
    "                url = image_to_export.getDownloadURL( {\n",
    "                    'bands' : ['B1'],\n",
    "                    'name' : export_name,\n",
    "                    'region' : roi,\n",
    "                    'scale' : 20,\n",
    "                    'format': 'GEO_TIFF'\n",
    "                })\n",
    "                response = requests.get(url) # access the response from url\n",
    "                \n",
    "                # access the directory to save file\n",
    "                global directory\n",
    "                directory = fc.value\n",
    "                dir_file = directory\n",
    "                dir_file.replace(r'\\\\', '/') # adjust for python backslahes\n",
    "\n",
    "                complete_name = os.path.join(dir_file, export_name) # full name of the image with path\n",
    "                # save the image\n",
    "                with open(complete_name, 'wb') as fd:\n",
    "                    fd.write(response.content)\n",
    "                # Notify about the succesfull operation    \n",
    "                output_widget_export.clear_output()\n",
    "                print('Exported succesfully!')\n",
    "        # Handle most common errors and all other errors\n",
    "        except NameError as namerr:\n",
    "            output_widget_export.clear_output()\n",
    "            print(Fore.RED + 'Error: click submit before. No data to export found')\n",
    "        except AttributeError as attrer:\n",
    "            output_widget_export.clear_output()\n",
    "            print(Fore.RED + 'Error: the path to save the file is not inidcated')\n",
    "        except Error as e:\n",
    "            output_widget_export.clear_output()\n",
    "            print(Fore.RED + ' Unknown error occured. Try to clear and resubmit your request')\n",
    "            \n",
    "export.on_click(export_hotmap_clicked)       "
   ]
  },
  {
   "cell_type": "code",
   "execution_count": 13,
   "id": "ebd6ef3e-4c02-44d9-927c-9b88c2975fd7",
   "metadata": {
    "tags": []
   },
   "outputs": [],
   "source": [
    "#Event handler to export the data in table format\n",
    "def table_export(b):\n",
    "    # print exporting with output widget (as it could take a while)\n",
    "    with output_widget_export:\n",
    "        output_widget_export.clear_output()\n",
    "        print('Exporting...')\n",
    "        try:\n",
    "            # create to lists to save dates and counted values of mask pixels\n",
    "            List_dates = []\n",
    "            List_values = []\n",
    "            \n",
    "            # lop through the series of images\n",
    "            for image in hotmap_ser:\n",
    "                #access hotmap series and select dates\n",
    "                image_date = ee.Date(image.get('system:time_start')).format('YYYY-MM-dd')\n",
    "                List_dates.append(image_date)\n",
    "                \n",
    "                #getting image url to save it in numpy array format\n",
    "                image_to_export = image.toInt()\n",
    "                url = image_to_export.getDownloadURL( {\n",
    "                    'bands' : ['B1'],\n",
    "                    'name' : 'Hotmap',\n",
    "                    'region' : roi,\n",
    "                    'scale' : 20,\n",
    "                    'format': 'NPY'\n",
    "                })\n",
    "                \n",
    "                #tranformation to \"readable\" numpy format\n",
    "                response = requests.get(url)\n",
    "                numpy_array_raster = np.load(io.BytesIO(response.content))\n",
    "                numpy_array_raster = numpy_array_raster.tolist()\n",
    "                \n",
    "                #loop through array to count the number of hotmap occurences\n",
    "                sum_positive = 0\n",
    "                for elem in numpy_array_raster:\n",
    "                    for el in elem:\n",
    "                        if el[0] == 1:\n",
    "                            sum_positive += 1\n",
    "\n",
    "                List_values.append(sum_positive)\n",
    "                \n",
    "            #combine the final dataframe for the output from date list and values list\n",
    "            final_stats = pd.DataFrame( {\n",
    "                'Date': List_dates,\n",
    "                'Pixel_number': List_values\n",
    "            })\n",
    "            \n",
    "            #save the file\n",
    "            global directory\n",
    "            directory = fc.value\n",
    "            dir_file = directory\n",
    "            dir_file.replace(r'\\\\', '/')\n",
    "\n",
    "            export_name = 'S2-HOTMAP_' + volcano + '.csv' #name for the file\n",
    "\n",
    "            complete_name = os.path.join(dir_file, export_name) # full path\n",
    "            final_stats.to_csv(complete_name) # save as csv file\n",
    "            \n",
    "            output_widget_export.clear_output()\n",
    "            print('Exported succesfully!')\n",
    "        \n",
    "        # handle possible exceptions\n",
    "        except NameError as namerr:\n",
    "            output_widget_export.clear_output()\n",
    "            print(Fore.RED + 'Error: click submit before. No data to export found')\n",
    "        except AttributeError as attrer:\n",
    "            output_widget_export.clear_output()\n",
    "            print(Fore.RED + 'Error: the path to save the file is not inidcated')\n",
    "        except Error as e:\n",
    "            output_widget_export.clear_output()\n",
    "            print(Fore.RED + ' Unknown error occured. Try to clear and resubmit your request')\n",
    "\n",
    "export_table.on_click(table_export)"
   ]
  },
  {
   "cell_type": "code",
   "execution_count": 14,
   "id": "370029c4",
   "metadata": {
    "tags": []
   },
   "outputs": [],
   "source": [
    "# Retrieve the collection and filter it by bounds and AOI\n",
    "def collection_retr(start, finish, roi):\n",
    "    collection = \"COPERNICUS/S2\" \n",
    "    s2_coll = (ee.ImageCollection(collection)\n",
    "        .filterDate(start, finish)\n",
    "        .filterBounds(point_volcano))\n",
    "    return s2_coll"
   ]
  },
  {
   "cell_type": "code",
   "execution_count": 15,
   "id": "53a1ee17-1c37-4330-971b-111028fd5dcf",
   "metadata": {
    "tags": []
   },
   "outputs": [],
   "source": [
    "def HOTMAP(image):\n",
    "  # Variable selection (2 SWIR and 1 NIR(B8A))\n",
    "  alpha1 = image.expression('B12/B11', {'B12': image.select('B12'), 'B11' : image.select('B11')})\n",
    "  alpha2 = image.expression('B12/B8A', {'B12': image.select('B12'), 'B8A' : image.select('B8A')})\n",
    "\n",
    "  beta1 = image.expression('B11/B8A', {'B11': image.select('B11'), 'B8A' : image.select('B8A')})\n",
    "\n",
    "  B12 = image.select('B12').divide(10000) # Reflectance is scaled by 10000\n",
    "  B11 = image.select('B11').divide(10000)\n",
    "  B8  = image.select('B8A').divide(10000)\n",
    "  # Select the cloud band and rescale from 60 to 20\n",
    "  Cloud = image.select('QA60')\n",
    "  proj = Cloud.projection().getInfo()\n",
    "  crs = proj['crs']\n",
    "  Clouds = Cloud.resample().reproject(**{'crs' : crs, 'scale' : 20.0})\n",
    "\n",
    "  #Preparing the Alpha parameter\n",
    "\n",
    "  alpha_A_raw = image.where(alpha1.gte(1.4),1) # Make binary map for each image (gte == greater than or equal; neq == not equal)\n",
    "  alpha_A = alpha_A_raw.where(alpha_A_raw.neq(1), 0) # second parameter is the new value\n",
    "\n",
    "  alpha_B_raw = image.where(alpha2.gte(2.0),1)\n",
    "  alpha_B = alpha_B_raw.where(alpha_B_raw.neq(1),0)\n",
    "\n",
    "  alpha_C_raw = image.where(B12.gte(0.6),1)\n",
    "  alpha_C = alpha_C_raw.where(alpha_C_raw.neq(1),0)\n",
    "\n",
    "\n",
    "  Alpha_total = image.expression('alpha + alphaa + alphaaa', { 'alpha' : alpha_A, 'alphaa': alpha_B, 'alphaaa': alpha_C}) # sum the binary images\n",
    "\n",
    "  Alpha_raw = Alpha_total.where(Alpha_total.eq(3),1) # only those for which all 3 are correct \n",
    "  Alpha = Alpha_raw.where(Alpha_total.neq(3),0) # Use Alpha_total here\n",
    "\n",
    "  # preparing the Beta parameter\n",
    "  s = image.where(B11.gt(1),1) # Saturation values above 1 for both bands\n",
    "  ss= s.where(B12.gt(1),1)\n",
    "  S= ss.where(ss.neq(1),0)\n",
    "\n",
    "  beta_A_raw = image.where(beta1.gte(2),1)\n",
    "  beta_A = beta_A_raw.where(beta_A_raw.neq(1),0)\n",
    "\n",
    "  beta_B_raw = image.where(B11.gte(0.5),1)\n",
    "  beta_B = beta_B_raw.where(beta_B_raw.neq(1),0)\n",
    "\n",
    "  beta_AB = image.expression('beta+betaa', { 'beta': beta_A, 'betaa': beta_B,}) # sum the binary images\n",
    "\n",
    "  beta_C_raw = beta_AB.where(beta_AB.eq(2),1)\n",
    "  beta_C = beta_C_raw.where(beta_AB.neq(2),0)\n",
    "\n",
    "  beta_D_raw = beta_C.where(beta_C.eq(1),1)\n",
    "  beta_D = beta_D_raw.where(S.eq(1),1)\n",
    "\n",
    "  Beta = beta_D.where(beta_D.neq(1),0)\n",
    "\n",
    "  # Combining both parameters\n",
    "\n",
    "  Hot_pixels_raw = image.where(Beta.eq(0),0)\n",
    "  Hot_pixels_raw2 = Hot_pixels_raw.where(Alpha.eq(0),0)\n",
    "  Hot_pixels_raw3 = Hot_pixels_raw2.where(Beta.eq(1),1)\n",
    "  Hot_pixels_raw4 = Hot_pixels_raw3.where(Alpha.eq(1),1)\n",
    "  Hot_pixels = Hot_pixels_raw4.where(Clouds.eq(1<<10),0) # Setting all rescaled cloud pixels (value of 1 in the 10th bit) to zero\n",
    "\n",
    "  # First clustering\n",
    "  \n",
    "  Cluster = Hot_pixels.connectedComponents(connectedness = ee.Kernel.square(1), maxSize = 128) # Find all the clusters in the image (square(1) == 8 pixel search area)\n",
    "  Cluster = Cluster.select(['labels']) # Each cluster gets a unique label (int)\n",
    "  Alpha = Alpha.addBands(Cluster.select(['labels'])) # for each Alpha pixel, the corresponding label is added (0 value (beta) pixels also included)\n",
    "  True_clusters = Alpha.reduceConnectedComponents(reducer = ee.Reducer.mean(), labelBand = 'labels') # The mean Alpha value of each cluster is calculated, if 1 alpha is present => retain cluster\n",
    "  Hotspot = Hot_pixels.where(True_clusters.gt(0),1) # Every cluster with mean Alpha value above 0 is retained\n",
    "  Hotspot = Hotspot.where(True_clusters.eq(0),0)\n",
    "  \n",
    "  # Cloud clustering\n",
    "  Cloud_seethrough_raw = image.where(Clouds.eq(1<<10),1) # Cloud images are included\n",
    "  Cloud_seethrough = Cloud_seethrough_raw.where(Cloud_seethrough_raw.neq(1),0)\n",
    "\n",
    "  # new Alpha parameters\n",
    "  gamma_A_raw = image.where(B12.gte(0.9),1)\n",
    "  gamma_A = gamma_A_raw.where(gamma_A_raw.neq(1),0)\n",
    "\n",
    "  gamma_B_raw = image.where(alpha1.gte(1.4),1)\n",
    "  gamma_B = gamma_B_raw.where(gamma_B_raw.neq(1),0)\n",
    "\n",
    "  gamma_C_raw = image.where(alpha2.gte(1.65),1)\n",
    "  gamma_C = gamma_C_raw.where(gamma_C_raw.neq(1),0)\n",
    "\n",
    "  \n",
    "  gamma_ABC = image.expression('gamma + gammaa + gammaaa + gammaaaa', { 'gamma': Cloud_seethrough, 'gammaa': gamma_A, 'gammaaa' : gamma_B, 'gammaaaa':gamma_C})\n",
    "\n",
    "  gamma_raw = image.where(gamma_ABC.eq(4),1)\n",
    "  gamma = gamma_raw.where(gamma_ABC.neq(4),0)\n",
    "  H= image.where(Beta.eq(0),0)\n",
    "  H2 = H.where(gamma.eq(0),0)\n",
    "  # Original Beta is included to prevent loss of clear image Beta-pixels\n",
    "  H3 = H2.where(Beta.eq(1),1)\n",
    "  H4 = H3.where(gamma.eq(1),1)\n",
    "  # Second clustering\n",
    "  Cluster = H4.connectedComponents(connectedness = ee.Kernel.square(1), maxSize = 128) # Similar approach\n",
    "  Cluster = Cluster.select(['labels'])\n",
    "  gamma = gamma.addBands(Cluster.select(['labels']))\n",
    "  True_clusters = gamma.reduceConnectedComponents(reducer = ee.Reducer.mean(), labelBand = 'labels')\n",
    "  Hotspot2 = H4.where(True_clusters.gt(0),1)\n",
    "  Hotspot2 = Hotspot2.where(True_clusters.eq(0),0)\n",
    "\n",
    "  final = Hotspot.where(Hotspot2.gt(0),1)\n",
    "  clipped = final.clip(roi)\n",
    "  Mask = clipped.selfMask()\n",
    "\n",
    "  return ee.Image(Mask) "
   ]
  },
  {
   "cell_type": "code",
   "execution_count": 16,
   "id": "86e7c028-dfc9-4f96-bb5f-3bc7640d1098",
   "metadata": {
    "tags": []
   },
   "outputs": [],
   "source": [
    "#retrival of hotmap series used in further analysis\n",
    "def hotmap_series(sentinel_series):\n",
    "    hotmap_list = []\n",
    "    List_dates = []\n",
    "    # for every image in list of images to create a hotmap mask and visualize it on a map\n",
    "    for image in sentinel_series:\n",
    "        image1_hotmap = HOTMAP(image)\n",
    "        image_date = ee.Date(image.get('system:time_start')).format('YYYY-MM-dd')\n",
    "        hotmap_list.append(image1_hotmap)\n",
    "        m.addLayer(image1_hotmap, visParams, \"v-Hotmap; Date: \" + image_date.getInfo()) # visualizing\n",
    "        \n",
    "    return hotmap_list     "
   ]
  },
  {
   "cell_type": "code",
   "execution_count": 17,
   "id": "e45647ae-abbd-489e-a793-1df139a8373f",
   "metadata": {
    "tags": []
   },
   "outputs": [],
   "source": [
    "#visualization of sentinel images and return of sentinel series without double-date images\n",
    "def sentinel_series(imagelist, image_number_auto):\n",
    "    sentinel_list = []\n",
    "    List_date = []\n",
    "    i = 0\n",
    "    for x in range(0, image_number_auto): # loop theough the list\n",
    "        imageID1 = imagelist.get(x)\n",
    "        image1 = ee.Image(imageID1).clip(roi)\n",
    "        image_date2 = ee.Date(image1.get('system:time_start')).format('YYYY-MM-dd')\n",
    "        \n",
    "        if image_date2.getInfo() in List_date: # to avoid double per one date\n",
    "            continue\n",
    "        List_date.append(image_date2.getInfo())\n",
    "        sentinel_list.append(image1) # append a list with all images for period of interest\n",
    "        m.addLayer(image1, visParams_sentinel2, visbands_widget.value + \"; Date: \" + image_date2.getInfo()) # add layer on the map\n",
    "            \n",
    "    return sentinel_list   "
   ]
  }
 ],
 "metadata": {
  "kernelspec": {
   "display_name": "geemap",
   "language": "python",
   "name": "geemap"
  },
  "language_info": {
   "codemirror_mode": {
    "name": "ipython",
    "version": 3
   },
   "file_extension": ".py",
   "mimetype": "text/x-python",
   "name": "python",
   "nbconvert_exporter": "python",
   "pygments_lexer": "ipython3",
   "version": "3.9.13"
  }
 },
 "nbformat": 4,
 "nbformat_minor": 5
}
